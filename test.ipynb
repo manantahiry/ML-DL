{
 "cells": [
  {
   "cell_type": "code",
   "execution_count": 1,
   "metadata": {},
   "outputs": [],
   "source": [
    "import pandas as pd\n",
    "import os\n",
    "import json"
   ]
  },
  {
   "cell_type": "code",
   "execution_count": 2,
   "metadata": {},
   "outputs": [],
   "source": [
    "def create_dict(words, base_path):\n",
    "    words_json = []\n",
    "    for index, word in enumerate(words):\n",
    "        word = word + \".wav\"\n",
    "        path = os.path.join(base_path, word)\n",
    "        if os.path.exists(path):\n",
    "            mot = {\n",
    "                \"id\": index,\n",
    "                \"dialect\": word,\n",
    "                \"path\": path,\n",
    "            }\n",
    "            words_json.append(mot)\n",
    "        else:\n",
    "            print(f\"File {path} does not exist.\")\n",
    "    return words_json\n"
   ]
  },
  {
   "cell_type": "code",
   "execution_count": 3,
   "metadata": {},
   "outputs": [],
   "source": [
    "data = pd.read_excel(\"datasetDIALECT.ods\")"
   ]
  },
  {
   "cell_type": "code",
   "execution_count": 4,
   "metadata": {},
   "outputs": [
    {
     "data": {
      "text/html": [
       "<div>\n",
       "<style scoped>\n",
       "    .dataframe tbody tr th:only-of-type {\n",
       "        vertical-align: middle;\n",
       "    }\n",
       "\n",
       "    .dataframe tbody tr th {\n",
       "        vertical-align: top;\n",
       "    }\n",
       "\n",
       "    .dataframe thead th {\n",
       "        text-align: right;\n",
       "    }\n",
       "</style>\n",
       "<table border=\"1\" class=\"dataframe\">\n",
       "  <thead>\n",
       "    <tr style=\"text-align: right;\">\n",
       "      <th></th>\n",
       "      <th>DIALECT</th>\n",
       "      <th>OFFICIEL</th>\n",
       "      <th>PHRASE DIALECT</th>\n",
       "      <th>PHRASE OFFICIEL</th>\n",
       "      <th>Unnamed: 4</th>\n",
       "    </tr>\n",
       "  </thead>\n",
       "  <tbody>\n",
       "    <tr>\n",
       "      <th>0</th>\n",
       "      <td>miroro</td>\n",
       "      <td>matory</td>\n",
       "      <td>tsy miroro rozy</td>\n",
       "      <td>tsy matory izy ireo</td>\n",
       "      <td>NaN</td>\n",
       "    </tr>\n",
       "    <tr>\n",
       "      <th>1</th>\n",
       "      <td>baliky</td>\n",
       "      <td>adala</td>\n",
       "      <td>baliky any iha toy</td>\n",
       "      <td>adala anie ianao e</td>\n",
       "      <td>NaN</td>\n",
       "    </tr>\n",
       "    <tr>\n",
       "      <th>2</th>\n",
       "      <td>malisa</td>\n",
       "      <td>maika</td>\n",
       "      <td>ka malisa iha pelasoa</td>\n",
       "      <td>aza maika ry zazavavy</td>\n",
       "      <td>NaN</td>\n",
       "    </tr>\n",
       "    <tr>\n",
       "      <th>3</th>\n",
       "      <td>meloky</td>\n",
       "      <td>tezitra</td>\n",
       "      <td>meloka amiko va iha</td>\n",
       "      <td>tezitra amiko ve ianao</td>\n",
       "      <td>NaN</td>\n",
       "    </tr>\n",
       "    <tr>\n",
       "      <th>4</th>\n",
       "      <td>tendriky</td>\n",
       "      <td>antonona</td>\n",
       "      <td>tendrika eto atsika</td>\n",
       "      <td>antonona eto isika</td>\n",
       "      <td>NaN</td>\n",
       "    </tr>\n",
       "    <tr>\n",
       "      <th>5</th>\n",
       "      <td>soa</td>\n",
       "      <td>tsara</td>\n",
       "      <td>ampela soa iha</td>\n",
       "      <td>tovovavy tsara ianao</td>\n",
       "      <td>NaN</td>\n",
       "    </tr>\n",
       "    <tr>\n",
       "      <th>6</th>\n",
       "      <td>raty</td>\n",
       "      <td>ratsy</td>\n",
       "      <td>raty raha toy</td>\n",
       "      <td>ratsy izy izany a</td>\n",
       "      <td>NaN</td>\n",
       "    </tr>\n",
       "    <tr>\n",
       "      <th>7</th>\n",
       "      <td>mafaitry</td>\n",
       "      <td>mangidy</td>\n",
       "      <td>mafaitsy mare kafe toy</td>\n",
       "      <td>tena mangidy illay kafe</td>\n",
       "      <td>NaN</td>\n",
       "    </tr>\n",
       "  </tbody>\n",
       "</table>\n",
       "</div>"
      ],
      "text/plain": [
       "    DIALECT  OFFICIEL          PHRASE DIALECT          PHRASE OFFICIEL  \\\n",
       "0    miroro    matory         tsy miroro rozy      tsy matory izy ireo   \n",
       "1    baliky     adala      baliky any iha toy       adala anie ianao e   \n",
       "2    malisa     maika   ka malisa iha pelasoa    aza maika ry zazavavy   \n",
       "3    meloky   tezitra     meloka amiko va iha   tezitra amiko ve ianao   \n",
       "4  tendriky  antonona     tendrika eto atsika       antonona eto isika   \n",
       "5       soa     tsara          ampela soa iha     tovovavy tsara ianao   \n",
       "6      raty     ratsy           raty raha toy        ratsy izy izany a   \n",
       "7  mafaitry   mangidy  mafaitsy mare kafe toy  tena mangidy illay kafe   \n",
       "\n",
       "  Unnamed: 4  \n",
       "0        NaN  \n",
       "1        NaN  \n",
       "2        NaN  \n",
       "3        NaN  \n",
       "4        NaN  \n",
       "5        NaN  \n",
       "6        NaN  \n",
       "7        NaN  "
      ]
     },
     "execution_count": 4,
     "metadata": {},
     "output_type": "execute_result"
    }
   ],
   "source": [
    "data.head(8)"
   ]
  },
  {
   "cell_type": "code",
   "execution_count": 26,
   "metadata": {},
   "outputs": [],
   "source": [
    "dialects = data[\"OFFICIEL\"]\n",
    "base_path = \"audio_officiel\"\n",
    "result = create_dict(words=dialects, base_path=base_path)"
   ]
  },
  {
   "cell_type": "code",
   "execution_count": 27,
   "metadata": {},
   "outputs": [],
   "source": [
    "def create_dict(words, base_path):\n",
    "    words_json = []\n",
    "    for index, word in enumerate(words):\n",
    "        word = word + \".wav\"\n",
    "        path = os.path.join(base_path, word)\n",
    "        if os.path.exists(path):\n",
    "            mot = {\n",
    "                \"id\": index,\n",
    "                \"dialect\": word,\n",
    "                \"path\": path,\n",
    "            }\n",
    "            words_json.append(mot)\n",
    "    return words_json\n"
   ]
  },
  {
   "cell_type": "code",
   "execution_count": 28,
   "metadata": {},
   "outputs": [],
   "source": [
    "data_dict = create_dict(words=dialects, base_path=base_path)"
   ]
  },
  {
   "cell_type": "code",
   "execution_count": 29,
   "metadata": {},
   "outputs": [
    {
     "data": {
      "text/plain": [
       "[{'id': 0, 'dialect': 'matory.wav', 'path': 'audio_officiel/matory.wav'},\n",
       " {'id': 1, 'dialect': 'adala.wav', 'path': 'audio_officiel/adala.wav'},\n",
       " {'id': 2, 'dialect': 'maika.wav', 'path': 'audio_officiel/maika.wav'},\n",
       " {'id': 3, 'dialect': 'tezitra.wav', 'path': 'audio_officiel/tezitra.wav'},\n",
       " {'id': 4, 'dialect': 'antonona.wav', 'path': 'audio_officiel/antonona.wav'},\n",
       " {'id': 5, 'dialect': 'tsara.wav', 'path': 'audio_officiel/tsara.wav'},\n",
       " {'id': 6, 'dialect': 'ratsy.wav', 'path': 'audio_officiel/ratsy.wav'},\n",
       " {'id': 7, 'dialect': 'mangidy.wav', 'path': 'audio_officiel/mangidy.wav'},\n",
       " {'id': 8, 'dialect': 'mafy.wav', 'path': 'audio_officiel/mafy.wav'},\n",
       " {'id': 9, 'dialect': 'marikivy.wav', 'path': 'audio_officiel/marikivy.wav'},\n",
       " {'id': 10,\n",
       "  'dialect': 'mangidihidy.wav',\n",
       "  'path': 'audio_officiel/mangidihidy.wav'},\n",
       " {'id': 12, 'dialect': 'hanolo.wav', 'path': 'audio_officiel/hanolo.wav'},\n",
       " {'id': 13, 'dialect': 'tia.wav', 'path': 'audio_officiel/tia.wav'},\n",
       " {'id': 14, 'dialect': 'iantrana.wav', 'path': 'audio_officiel/iantrana.wav'},\n",
       " {'id': 15, 'dialect': 'tsiaro.wav', 'path': 'audio_officiel/tsiaro.wav'},\n",
       " {'id': 16,\n",
       "  'dialect': 'mangatsiaka.wav',\n",
       "  'path': 'audio_officiel/mangatsiaka.wav'},\n",
       " {'id': 17, 'dialect': 'mihinana.wav', 'path': 'audio_officiel/mihinana.wav'},\n",
       " {'id': 18,\n",
       "  'dialect': 'rahampitso.wav',\n",
       "  'path': 'audio_officiel/rahampitso.wav'},\n",
       " {'id': 19, 'dialect': 'mangina.wav', 'path': 'audio_officiel/mangina.wav'},\n",
       " {'id': 20,\n",
       "  'dialect': 'mandehandeha.wav',\n",
       "  'path': 'audio_officiel/mandehandeha.wav'},\n",
       " {'id': 21,\n",
       "  'dialect': 'mahihitra.wav',\n",
       "  'path': 'audio_officiel/mahihitra.wav'},\n",
       " {'id': 22, 'dialect': 'maintso.wav', 'path': 'audio_officiel/maintso.wav'},\n",
       " {'id': 23, 'dialect': 'mavo.wav', 'path': 'audio_officiel/mavo.wav'},\n",
       " {'id': 24, 'dialect': 'tsy tia.wav', 'path': 'audio_officiel/tsy tia.wav'},\n",
       " {'id': 25, 'dialect': 'eroa.wav', 'path': 'audio_officiel/eroa.wav'},\n",
       " {'id': 26, 'dialect': 'etsy.wav', 'path': 'audio_officiel/etsy.wav'},\n",
       " {'id': 27, 'dialect': 'avy any.wav', 'path': 'audio_officiel/avy any.wav'},\n",
       " {'id': 28, 'dialect': 'avy eo.wav', 'path': 'audio_officiel/avy eo.wav'},\n",
       " {'id': 29, 'dialect': 'tanora.wav', 'path': 'audio_officiel/tanora.wav'},\n",
       " {'id': 30, 'dialect': 'ramatoa.wav', 'path': 'audio_officiel/ramatoa.wav'},\n",
       " {'id': 31, 'dialect': 'rangahy.wav', 'path': 'audio_officiel/rangahy.wav'},\n",
       " {'id': 32, 'dialect': 'salama.wav', 'path': 'audio_officiel/salama.wav'},\n",
       " {'id': 33, 'dialect': 'mivoaka.wav', 'path': 'audio_officiel/mivoaka.wav'},\n",
       " {'id': 34, 'dialect': 'ivelany.wav', 'path': 'audio_officiel/ivelany.wav'},\n",
       " {'id': 36, 'dialect': 'izy ireo.wav', 'path': 'audio_officiel/izy ireo.wav'},\n",
       " {'id': 37, 'dialect': 'zaza.wav', 'path': 'audio_officiel/zaza.wav'},\n",
       " {'id': 38, 'dialect': 'tovovavy.wav', 'path': 'audio_officiel/tovovavy.wav'},\n",
       " {'id': 39,\n",
       "  'dialect': 'matahotra.wav',\n",
       "  'path': 'audio_officiel/matahotra.wav'},\n",
       " {'id': 40, 'dialect': 'mitondra.wav', 'path': 'audio_officiel/mitondra.wav'},\n",
       " {'id': 41, 'dialect': 'vomanga.wav', 'path': 'audio_officiel/vomanga.wav'},\n",
       " {'id': 42, 'dialect': 'mafy.wav', 'path': 'audio_officiel/mafy.wav'},\n",
       " {'id': 44, 'dialect': 'adala.wav', 'path': 'audio_officiel/adala.wav'},\n",
       " {'id': 45, 'dialect': 'milalao.wav', 'path': 'audio_officiel/milalao.wav'},\n",
       " {'id': 46, 'dialect': 'very.wav', 'path': 'audio_officiel/very.wav'},\n",
       " {'id': 47, 'dialect': 'gaga.wav', 'path': 'audio_officiel/gaga.wav'},\n",
       " {'id': 48, 'dialect': 'teny.wav', 'path': 'audio_officiel/teny.wav'},\n",
       " {'id': 49, 'dialect': 'vola.wav', 'path': 'audio_officiel/vola.wav'},\n",
       " {'id': 50, 'dialect': 'voasary.wav', 'path': 'audio_officiel/voasary.wav'},\n",
       " {'id': 51, 'dialect': 'intsony.wav', 'path': 'audio_officiel/intsony.wav'}]"
      ]
     },
     "execution_count": 29,
     "metadata": {},
     "output_type": "execute_result"
    }
   ],
   "source": [
    "data_dict"
   ]
  },
  {
   "cell_type": "code",
   "execution_count": 30,
   "metadata": {},
   "outputs": [
    {
     "data": {
      "text/plain": [
       "Index(['DIALECT', 'OFFICIEL', 'PHRASE DIALECT', 'PHRASE OFFICIEL',\n",
       "       'Unnamed: 4'],\n",
       "      dtype='object')"
      ]
     },
     "execution_count": 30,
     "metadata": {},
     "output_type": "execute_result"
    }
   ],
   "source": [
    "data.columns"
   ]
  },
  {
   "cell_type": "code",
   "execution_count": 31,
   "metadata": {},
   "outputs": [],
   "source": [
    "words = \"OFFICIEL\""
   ]
  },
  {
   "cell_type": "code",
   "execution_count": 32,
   "metadata": {},
   "outputs": [],
   "source": [
    "dialects = data[words]"
   ]
  },
  {
   "cell_type": "code",
   "execution_count": 33,
   "metadata": {},
   "outputs": [
    {
     "data": {
      "text/plain": [
       "0           matory\n",
       "1            adala\n",
       "2            maika\n",
       "3          tezitra\n",
       "4         antonona\n",
       "5            tsara\n",
       "6            ratsy\n",
       "7          mangidy\n",
       "8             mafy\n",
       "9         marikivy\n",
       "10     mangidihidy\n",
       "11    mihazakazaka\n",
       "12          hanolo\n",
       "13             tia\n",
       "14        iantrana\n",
       "15          tsiaro\n",
       "16     mangatsiaka\n",
       "17        mihinana\n",
       "18      rahampitso\n",
       "19         mangina\n",
       "20    mandehandeha\n",
       "21       mahihitra\n",
       "22         maintso\n",
       "23            mavo\n",
       "24         tsy tia\n",
       "25            eroa\n",
       "26            etsy\n",
       "27         avy any\n",
       "28          avy eo\n",
       "29          tanora\n",
       "30         ramatoa\n",
       "31         rangahy\n",
       "32          salama\n",
       "33         mivoaka\n",
       "34         ivelany\n",
       "35           ianao\n",
       "36        izy ireo\n",
       "37            zaza\n",
       "38        tovovavy\n",
       "39       matahotra\n",
       "40        mitondra\n",
       "41         vomanga\n",
       "42            mafy\n",
       "43         hoy aho\n",
       "44           adala\n",
       "45         milalao\n",
       "46            very\n",
       "47            gaga\n",
       "48            teny\n",
       "49            vola\n",
       "50         voasary\n",
       "51         intsony\n",
       "Name: OFFICIEL, dtype: object"
      ]
     },
     "execution_count": 33,
     "metadata": {},
     "output_type": "execute_result"
    }
   ],
   "source": [
    "dialects"
   ]
  },
  {
   "cell_type": "code",
   "execution_count": 34,
   "metadata": {},
   "outputs": [],
   "source": [
    "result = create_dict(words=dialects, base_path=base_path)"
   ]
  },
  {
   "cell_type": "code",
   "execution_count": 35,
   "metadata": {},
   "outputs": [
    {
     "data": {
      "text/plain": [
       "[{'id': 0, 'dialect': 'matory.wav', 'path': 'audio_officiel/matory.wav'},\n",
       " {'id': 1, 'dialect': 'adala.wav', 'path': 'audio_officiel/adala.wav'},\n",
       " {'id': 2, 'dialect': 'maika.wav', 'path': 'audio_officiel/maika.wav'},\n",
       " {'id': 3, 'dialect': 'tezitra.wav', 'path': 'audio_officiel/tezitra.wav'},\n",
       " {'id': 4, 'dialect': 'antonona.wav', 'path': 'audio_officiel/antonona.wav'},\n",
       " {'id': 5, 'dialect': 'tsara.wav', 'path': 'audio_officiel/tsara.wav'},\n",
       " {'id': 6, 'dialect': 'ratsy.wav', 'path': 'audio_officiel/ratsy.wav'},\n",
       " {'id': 7, 'dialect': 'mangidy.wav', 'path': 'audio_officiel/mangidy.wav'},\n",
       " {'id': 8, 'dialect': 'mafy.wav', 'path': 'audio_officiel/mafy.wav'},\n",
       " {'id': 9, 'dialect': 'marikivy.wav', 'path': 'audio_officiel/marikivy.wav'},\n",
       " {'id': 10,\n",
       "  'dialect': 'mangidihidy.wav',\n",
       "  'path': 'audio_officiel/mangidihidy.wav'},\n",
       " {'id': 12, 'dialect': 'hanolo.wav', 'path': 'audio_officiel/hanolo.wav'},\n",
       " {'id': 13, 'dialect': 'tia.wav', 'path': 'audio_officiel/tia.wav'},\n",
       " {'id': 14, 'dialect': 'iantrana.wav', 'path': 'audio_officiel/iantrana.wav'},\n",
       " {'id': 15, 'dialect': 'tsiaro.wav', 'path': 'audio_officiel/tsiaro.wav'},\n",
       " {'id': 16,\n",
       "  'dialect': 'mangatsiaka.wav',\n",
       "  'path': 'audio_officiel/mangatsiaka.wav'},\n",
       " {'id': 17, 'dialect': 'mihinana.wav', 'path': 'audio_officiel/mihinana.wav'},\n",
       " {'id': 18,\n",
       "  'dialect': 'rahampitso.wav',\n",
       "  'path': 'audio_officiel/rahampitso.wav'},\n",
       " {'id': 19, 'dialect': 'mangina.wav', 'path': 'audio_officiel/mangina.wav'},\n",
       " {'id': 20,\n",
       "  'dialect': 'mandehandeha.wav',\n",
       "  'path': 'audio_officiel/mandehandeha.wav'},\n",
       " {'id': 21,\n",
       "  'dialect': 'mahihitra.wav',\n",
       "  'path': 'audio_officiel/mahihitra.wav'},\n",
       " {'id': 22, 'dialect': 'maintso.wav', 'path': 'audio_officiel/maintso.wav'},\n",
       " {'id': 23, 'dialect': 'mavo.wav', 'path': 'audio_officiel/mavo.wav'},\n",
       " {'id': 24, 'dialect': 'tsy tia.wav', 'path': 'audio_officiel/tsy tia.wav'},\n",
       " {'id': 25, 'dialect': 'eroa.wav', 'path': 'audio_officiel/eroa.wav'},\n",
       " {'id': 26, 'dialect': 'etsy.wav', 'path': 'audio_officiel/etsy.wav'},\n",
       " {'id': 27, 'dialect': 'avy any.wav', 'path': 'audio_officiel/avy any.wav'},\n",
       " {'id': 28, 'dialect': 'avy eo.wav', 'path': 'audio_officiel/avy eo.wav'},\n",
       " {'id': 29, 'dialect': 'tanora.wav', 'path': 'audio_officiel/tanora.wav'},\n",
       " {'id': 30, 'dialect': 'ramatoa.wav', 'path': 'audio_officiel/ramatoa.wav'},\n",
       " {'id': 31, 'dialect': 'rangahy.wav', 'path': 'audio_officiel/rangahy.wav'},\n",
       " {'id': 32, 'dialect': 'salama.wav', 'path': 'audio_officiel/salama.wav'},\n",
       " {'id': 33, 'dialect': 'mivoaka.wav', 'path': 'audio_officiel/mivoaka.wav'},\n",
       " {'id': 34, 'dialect': 'ivelany.wav', 'path': 'audio_officiel/ivelany.wav'},\n",
       " {'id': 36, 'dialect': 'izy ireo.wav', 'path': 'audio_officiel/izy ireo.wav'},\n",
       " {'id': 37, 'dialect': 'zaza.wav', 'path': 'audio_officiel/zaza.wav'},\n",
       " {'id': 38, 'dialect': 'tovovavy.wav', 'path': 'audio_officiel/tovovavy.wav'},\n",
       " {'id': 39,\n",
       "  'dialect': 'matahotra.wav',\n",
       "  'path': 'audio_officiel/matahotra.wav'},\n",
       " {'id': 40, 'dialect': 'mitondra.wav', 'path': 'audio_officiel/mitondra.wav'},\n",
       " {'id': 41, 'dialect': 'vomanga.wav', 'path': 'audio_officiel/vomanga.wav'},\n",
       " {'id': 42, 'dialect': 'mafy.wav', 'path': 'audio_officiel/mafy.wav'},\n",
       " {'id': 44, 'dialect': 'adala.wav', 'path': 'audio_officiel/adala.wav'},\n",
       " {'id': 45, 'dialect': 'milalao.wav', 'path': 'audio_officiel/milalao.wav'},\n",
       " {'id': 46, 'dialect': 'very.wav', 'path': 'audio_officiel/very.wav'},\n",
       " {'id': 47, 'dialect': 'gaga.wav', 'path': 'audio_officiel/gaga.wav'},\n",
       " {'id': 48, 'dialect': 'teny.wav', 'path': 'audio_officiel/teny.wav'},\n",
       " {'id': 49, 'dialect': 'vola.wav', 'path': 'audio_officiel/vola.wav'},\n",
       " {'id': 50, 'dialect': 'voasary.wav', 'path': 'audio_officiel/voasary.wav'},\n",
       " {'id': 51, 'dialect': 'intsony.wav', 'path': 'audio_officiel/intsony.wav'}]"
      ]
     },
     "execution_count": 35,
     "metadata": {},
     "output_type": "execute_result"
    }
   ],
   "source": [
    "result"
   ]
  },
  {
   "cell_type": "code",
   "execution_count": 36,
   "metadata": {},
   "outputs": [],
   "source": [
    "json_data_ = json.dumps(result, indent=4)"
   ]
  },
  {
   "cell_type": "code",
   "execution_count": 37,
   "metadata": {},
   "outputs": [
    {
     "data": {
      "text/plain": [
       "'[\\n    {\\n        \"id\": 0,\\n        \"dialect\": \"matory.wav\",\\n        \"path\": \"audio_officiel/matory.wav\"\\n    },\\n    {\\n        \"id\": 1,\\n        \"dialect\": \"adala.wav\",\\n        \"path\": \"audio_officiel/adala.wav\"\\n    },\\n    {\\n        \"id\": 2,\\n        \"dialect\": \"maika.wav\",\\n        \"path\": \"audio_officiel/maika.wav\"\\n    },\\n    {\\n        \"id\": 3,\\n        \"dialect\": \"tezitra.wav\",\\n        \"path\": \"audio_officiel/tezitra.wav\"\\n    },\\n    {\\n        \"id\": 4,\\n        \"dialect\": \"antonona.wav\",\\n        \"path\": \"audio_officiel/antonona.wav\"\\n    },\\n    {\\n        \"id\": 5,\\n        \"dialect\": \"tsara.wav\",\\n        \"path\": \"audio_officiel/tsara.wav\"\\n    },\\n    {\\n        \"id\": 6,\\n        \"dialect\": \"ratsy.wav\",\\n        \"path\": \"audio_officiel/ratsy.wav\"\\n    },\\n    {\\n        \"id\": 7,\\n        \"dialect\": \"mangidy.wav\",\\n        \"path\": \"audio_officiel/mangidy.wav\"\\n    },\\n    {\\n        \"id\": 8,\\n        \"dialect\": \"mafy.wav\",\\n        \"path\": \"audio_officiel/mafy.wav\"\\n    },\\n    {\\n        \"id\": 9,\\n        \"dialect\": \"marikivy.wav\",\\n        \"path\": \"audio_officiel/marikivy.wav\"\\n    },\\n    {\\n        \"id\": 10,\\n        \"dialect\": \"mangidihidy.wav\",\\n        \"path\": \"audio_officiel/mangidihidy.wav\"\\n    },\\n    {\\n        \"id\": 12,\\n        \"dialect\": \"hanolo.wav\",\\n        \"path\": \"audio_officiel/hanolo.wav\"\\n    },\\n    {\\n        \"id\": 13,\\n        \"dialect\": \"tia.wav\",\\n        \"path\": \"audio_officiel/tia.wav\"\\n    },\\n    {\\n        \"id\": 14,\\n        \"dialect\": \"iantrana.wav\",\\n        \"path\": \"audio_officiel/iantrana.wav\"\\n    },\\n    {\\n        \"id\": 15,\\n        \"dialect\": \"tsiaro.wav\",\\n        \"path\": \"audio_officiel/tsiaro.wav\"\\n    },\\n    {\\n        \"id\": 16,\\n        \"dialect\": \"mangatsiaka.wav\",\\n        \"path\": \"audio_officiel/mangatsiaka.wav\"\\n    },\\n    {\\n        \"id\": 17,\\n        \"dialect\": \"mihinana.wav\",\\n        \"path\": \"audio_officiel/mihinana.wav\"\\n    },\\n    {\\n        \"id\": 18,\\n        \"dialect\": \"rahampitso.wav\",\\n        \"path\": \"audio_officiel/rahampitso.wav\"\\n    },\\n    {\\n        \"id\": 19,\\n        \"dialect\": \"mangina.wav\",\\n        \"path\": \"audio_officiel/mangina.wav\"\\n    },\\n    {\\n        \"id\": 20,\\n        \"dialect\": \"mandehandeha.wav\",\\n        \"path\": \"audio_officiel/mandehandeha.wav\"\\n    },\\n    {\\n        \"id\": 21,\\n        \"dialect\": \"mahihitra.wav\",\\n        \"path\": \"audio_officiel/mahihitra.wav\"\\n    },\\n    {\\n        \"id\": 22,\\n        \"dialect\": \"maintso.wav\",\\n        \"path\": \"audio_officiel/maintso.wav\"\\n    },\\n    {\\n        \"id\": 23,\\n        \"dialect\": \"mavo.wav\",\\n        \"path\": \"audio_officiel/mavo.wav\"\\n    },\\n    {\\n        \"id\": 24,\\n        \"dialect\": \"tsy tia.wav\",\\n        \"path\": \"audio_officiel/tsy tia.wav\"\\n    },\\n    {\\n        \"id\": 25,\\n        \"dialect\": \"eroa.wav\",\\n        \"path\": \"audio_officiel/eroa.wav\"\\n    },\\n    {\\n        \"id\": 26,\\n        \"dialect\": \"etsy.wav\",\\n        \"path\": \"audio_officiel/etsy.wav\"\\n    },\\n    {\\n        \"id\": 27,\\n        \"dialect\": \"avy any.wav\",\\n        \"path\": \"audio_officiel/avy any.wav\"\\n    },\\n    {\\n        \"id\": 28,\\n        \"dialect\": \"avy eo.wav\",\\n        \"path\": \"audio_officiel/avy eo.wav\"\\n    },\\n    {\\n        \"id\": 29,\\n        \"dialect\": \"tanora.wav\",\\n        \"path\": \"audio_officiel/tanora.wav\"\\n    },\\n    {\\n        \"id\": 30,\\n        \"dialect\": \"ramatoa.wav\",\\n        \"path\": \"audio_officiel/ramatoa.wav\"\\n    },\\n    {\\n        \"id\": 31,\\n        \"dialect\": \"rangahy.wav\",\\n        \"path\": \"audio_officiel/rangahy.wav\"\\n    },\\n    {\\n        \"id\": 32,\\n        \"dialect\": \"salama.wav\",\\n        \"path\": \"audio_officiel/salama.wav\"\\n    },\\n    {\\n        \"id\": 33,\\n        \"dialect\": \"mivoaka.wav\",\\n        \"path\": \"audio_officiel/mivoaka.wav\"\\n    },\\n    {\\n        \"id\": 34,\\n        \"dialect\": \"ivelany.wav\",\\n        \"path\": \"audio_officiel/ivelany.wav\"\\n    },\\n    {\\n        \"id\": 36,\\n        \"dialect\": \"izy ireo.wav\",\\n        \"path\": \"audio_officiel/izy ireo.wav\"\\n    },\\n    {\\n        \"id\": 37,\\n        \"dialect\": \"zaza.wav\",\\n        \"path\": \"audio_officiel/zaza.wav\"\\n    },\\n    {\\n        \"id\": 38,\\n        \"dialect\": \"tovovavy.wav\",\\n        \"path\": \"audio_officiel/tovovavy.wav\"\\n    },\\n    {\\n        \"id\": 39,\\n        \"dialect\": \"matahotra.wav\",\\n        \"path\": \"audio_officiel/matahotra.wav\"\\n    },\\n    {\\n        \"id\": 40,\\n        \"dialect\": \"mitondra.wav\",\\n        \"path\": \"audio_officiel/mitondra.wav\"\\n    },\\n    {\\n        \"id\": 41,\\n        \"dialect\": \"vomanga.wav\",\\n        \"path\": \"audio_officiel/vomanga.wav\"\\n    },\\n    {\\n        \"id\": 42,\\n        \"dialect\": \"mafy.wav\",\\n        \"path\": \"audio_officiel/mafy.wav\"\\n    },\\n    {\\n        \"id\": 44,\\n        \"dialect\": \"adala.wav\",\\n        \"path\": \"audio_officiel/adala.wav\"\\n    },\\n    {\\n        \"id\": 45,\\n        \"dialect\": \"milalao.wav\",\\n        \"path\": \"audio_officiel/milalao.wav\"\\n    },\\n    {\\n        \"id\": 46,\\n        \"dialect\": \"very.wav\",\\n        \"path\": \"audio_officiel/very.wav\"\\n    },\\n    {\\n        \"id\": 47,\\n        \"dialect\": \"gaga.wav\",\\n        \"path\": \"audio_officiel/gaga.wav\"\\n    },\\n    {\\n        \"id\": 48,\\n        \"dialect\": \"teny.wav\",\\n        \"path\": \"audio_officiel/teny.wav\"\\n    },\\n    {\\n        \"id\": 49,\\n        \"dialect\": \"vola.wav\",\\n        \"path\": \"audio_officiel/vola.wav\"\\n    },\\n    {\\n        \"id\": 50,\\n        \"dialect\": \"voasary.wav\",\\n        \"path\": \"audio_officiel/voasary.wav\"\\n    },\\n    {\\n        \"id\": 51,\\n        \"dialect\": \"intsony.wav\",\\n        \"path\": \"audio_officiel/intsony.wav\"\\n    }\\n]'"
      ]
     },
     "execution_count": 37,
     "metadata": {},
     "output_type": "execute_result"
    }
   ],
   "source": [
    "json_data_"
   ]
  },
  {
   "cell_type": "code",
   "execution_count": 38,
   "metadata": {},
   "outputs": [],
   "source": [
    "file_name = \"officiel\""
   ]
  },
  {
   "cell_type": "code",
   "execution_count": 39,
   "metadata": {},
   "outputs": [],
   "source": [
    "with open(f\"{file_name}.json\", \"w\") as json_file:\n",
    "    json_file.write(json_data_)"
   ]
  },
  {
   "cell_type": "code",
   "execution_count": 19,
   "metadata": {},
   "outputs": [],
   "source": [
    "def json_data(data, words, base_path, file_name):\n",
    "    dialects = data[words]\n",
    "    result = create_dict(words=dialects, base_path=base_path)\n",
    "\n",
    "    # Create the JSON structure\n",
    "    json_data_ = json.dumps(result, indent=4)\n",
    "\n",
    "    # Save the JSON data to a file\n",
    "    with open(f\"{file_name}.json\", \"w\") as json_file:\n",
    "        json_file.write(json_data_)\n",
    "\n",
    "    # Print the JSON data\n",
    "    print(f\"Content of {file_name}.json:\")\n",
    "    print(json_data)\n"
   ]
  },
  {
   "cell_type": "code",
   "execution_count": 20,
   "metadata": {},
   "outputs": [
    {
     "ename": "TypeError",
     "evalue": "list indices must be integers or slices, not str",
     "output_type": "error",
     "traceback": [
      "\u001b[31m---------------------------------------------------------------------------\u001b[39m",
      "\u001b[31mTypeError\u001b[39m                                 Traceback (most recent call last)",
      "\u001b[36mCell\u001b[39m\u001b[36m \u001b[39m\u001b[32mIn[20]\u001b[39m\u001b[32m, line 1\u001b[39m\n\u001b[32m----> \u001b[39m\u001b[32m1\u001b[39m \u001b[43mjson_data\u001b[49m\u001b[43m(\u001b[49m\u001b[43mdata\u001b[49m\u001b[43m=\u001b[49m\u001b[43mdata_dict\u001b[49m\u001b[43m,\u001b[49m\u001b[43m \u001b[49m\u001b[43mwords\u001b[49m\u001b[43m=\u001b[49m\u001b[33;43m\"\u001b[39;49m\u001b[33;43mDIALECT\u001b[39;49m\u001b[33;43m\"\u001b[39;49m\u001b[43m,\u001b[49m\u001b[43m \u001b[49m\u001b[43mbase_path\u001b[49m\u001b[43m=\u001b[49m\u001b[43mbase_path\u001b[49m\u001b[43m,\u001b[49m\u001b[43m \u001b[49m\u001b[43mfile_name\u001b[49m\u001b[43m=\u001b[49m\u001b[33;43m\"\u001b[39;49m\u001b[33;43mdialects\u001b[39;49m\u001b[33;43m\"\u001b[39;49m\u001b[43m)\u001b[49m\n",
      "\u001b[36mCell\u001b[39m\u001b[36m \u001b[39m\u001b[32mIn[19]\u001b[39m\u001b[32m, line 2\u001b[39m, in \u001b[36mjson_data\u001b[39m\u001b[34m(data, words, base_path, file_name)\u001b[39m\n\u001b[32m      1\u001b[39m \u001b[38;5;28;01mdef\u001b[39;00m\u001b[38;5;250m \u001b[39m\u001b[34mjson_data\u001b[39m(data, words, base_path, file_name):\n\u001b[32m----> \u001b[39m\u001b[32m2\u001b[39m     dialects = \u001b[43mdata\u001b[49m\u001b[43m[\u001b[49m\u001b[43mwords\u001b[49m\u001b[43m]\u001b[49m\n\u001b[32m      3\u001b[39m     result = create_dict(words=dialects, base_path=base_path)\n\u001b[32m      5\u001b[39m     \u001b[38;5;66;03m# Create the JSON structure\u001b[39;00m\n",
      "\u001b[31mTypeError\u001b[39m: list indices must be integers or slices, not str"
     ]
    }
   ],
   "source": [
    "json_data(data=data_dict, words=\"DIALECT\", base_path=base_path, file_name=\"dialects\")"
   ]
  },
  {
   "cell_type": "code",
   "execution_count": null,
   "metadata": {},
   "outputs": [],
   "source": []
  }
 ],
 "metadata": {
  "kernelspec": {
   "display_name": "vezo_venv",
   "language": "python",
   "name": "python3"
  },
  "language_info": {
   "codemirror_mode": {
    "name": "ipython",
    "version": 3
   },
   "file_extension": ".py",
   "mimetype": "text/x-python",
   "name": "python",
   "nbconvert_exporter": "python",
   "pygments_lexer": "ipython3",
   "version": "3.12.3"
  }
 },
 "nbformat": 4,
 "nbformat_minor": 2
}
